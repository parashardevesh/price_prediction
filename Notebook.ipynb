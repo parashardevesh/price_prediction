{
 "cells": [
  {
   "cell_type": "code",
   "execution_count": 40,
   "metadata": {},
   "outputs": [],
   "source": [
    "import warnings\n",
    "warnings.filterwarnings(\"ignore\")"
   ]
  },
  {
   "cell_type": "code",
   "execution_count": 3,
   "metadata": {},
   "outputs": [],
   "source": [
    "import pandas as pd"
   ]
  },
  {
   "cell_type": "code",
   "execution_count": 4,
   "metadata": {},
   "outputs": [
    {
     "data": {
      "text/html": [
       "<div>\n",
       "<style scoped>\n",
       "    .dataframe tbody tr th:only-of-type {\n",
       "        vertical-align: middle;\n",
       "    }\n",
       "\n",
       "    .dataframe tbody tr th {\n",
       "        vertical-align: top;\n",
       "    }\n",
       "\n",
       "    .dataframe thead th {\n",
       "        text-align: right;\n",
       "    }\n",
       "</style>\n",
       "<table border=\"1\" class=\"dataframe\">\n",
       "  <thead>\n",
       "    <tr style=\"text-align: right;\">\n",
       "      <th></th>\n",
       "      <th>Date</th>\n",
       "      <th>Close/Last</th>\n",
       "      <th>Volume</th>\n",
       "      <th>Open</th>\n",
       "      <th>High</th>\n",
       "      <th>Low</th>\n",
       "    </tr>\n",
       "  </thead>\n",
       "  <tbody>\n",
       "    <tr>\n",
       "      <th>0</th>\n",
       "      <td>02/28/2020</td>\n",
       "      <td>$273.36</td>\n",
       "      <td>106721200</td>\n",
       "      <td>$257.26</td>\n",
       "      <td>$278.41</td>\n",
       "      <td>$256.37</td>\n",
       "    </tr>\n",
       "    <tr>\n",
       "      <th>1</th>\n",
       "      <td>02/27/2020</td>\n",
       "      <td>$273.52</td>\n",
       "      <td>80151380</td>\n",
       "      <td>$281.1</td>\n",
       "      <td>$286</td>\n",
       "      <td>$272.96</td>\n",
       "    </tr>\n",
       "    <tr>\n",
       "      <th>2</th>\n",
       "      <td>02/26/2020</td>\n",
       "      <td>$292.65</td>\n",
       "      <td>49678430</td>\n",
       "      <td>$286.53</td>\n",
       "      <td>$297.88</td>\n",
       "      <td>$286.5</td>\n",
       "    </tr>\n",
       "    <tr>\n",
       "      <th>3</th>\n",
       "      <td>02/25/2020</td>\n",
       "      <td>$288.08</td>\n",
       "      <td>57668360</td>\n",
       "      <td>$300.95</td>\n",
       "      <td>$302.53</td>\n",
       "      <td>$286.13</td>\n",
       "    </tr>\n",
       "    <tr>\n",
       "      <th>4</th>\n",
       "      <td>02/24/2020</td>\n",
       "      <td>$298.18</td>\n",
       "      <td>55548830</td>\n",
       "      <td>$297.26</td>\n",
       "      <td>$304.18</td>\n",
       "      <td>$289.23</td>\n",
       "    </tr>\n",
       "  </tbody>\n",
       "</table>\n",
       "</div>"
      ],
      "text/plain": [
       "         Date  Close/Last     Volume      Open      High       Low\n",
       "0  02/28/2020     $273.36  106721200   $257.26   $278.41   $256.37\n",
       "1  02/27/2020     $273.52   80151380    $281.1      $286   $272.96\n",
       "2  02/26/2020     $292.65   49678430   $286.53   $297.88    $286.5\n",
       "3  02/25/2020     $288.08   57668360   $300.95   $302.53   $286.13\n",
       "4  02/24/2020     $298.18   55548830   $297.26   $304.18   $289.23"
      ]
     },
     "execution_count": 4,
     "metadata": {},
     "output_type": "execute_result"
    }
   ],
   "source": [
    "apple = pd.read_csv('HistoricalQuotes.csv')\n",
    "apple.head()"
   ]
  },
  {
   "cell_type": "code",
   "execution_count": 6,
   "metadata": {},
   "outputs": [
    {
     "name": "stdout",
     "output_type": "stream",
     "text": [
      "<class 'pandas.core.frame.DataFrame'>\n",
      "RangeIndex: 2518 entries, 0 to 2517\n",
      "Data columns (total 6 columns):\n",
      " #   Column       Non-Null Count  Dtype \n",
      "---  ------       --------------  ----- \n",
      " 0   Date         2518 non-null   object\n",
      " 1    Close/Last  2518 non-null   object\n",
      " 2    Volume      2518 non-null   int64 \n",
      " 3    Open        2518 non-null   object\n",
      " 4    High        2518 non-null   object\n",
      " 5    Low         2518 non-null   object\n",
      "dtypes: int64(1), object(5)\n",
      "memory usage: 118.2+ KB\n"
     ]
    }
   ],
   "source": [
    "apple.info()"
   ]
  },
  {
   "cell_type": "code",
   "execution_count": 16,
   "metadata": {},
   "outputs": [
    {
     "data": {
      "text/html": [
       "<div>\n",
       "<style scoped>\n",
       "    .dataframe tbody tr th:only-of-type {\n",
       "        vertical-align: middle;\n",
       "    }\n",
       "\n",
       "    .dataframe tbody tr th {\n",
       "        vertical-align: top;\n",
       "    }\n",
       "\n",
       "    .dataframe thead th {\n",
       "        text-align: right;\n",
       "    }\n",
       "</style>\n",
       "<table border=\"1\" class=\"dataframe\">\n",
       "  <thead>\n",
       "    <tr style=\"text-align: right;\">\n",
       "      <th></th>\n",
       "      <th>Date</th>\n",
       "      <th>Close/Last</th>\n",
       "      <th>Volume</th>\n",
       "      <th>Open</th>\n",
       "      <th>High</th>\n",
       "      <th>Low</th>\n",
       "      <th>year</th>\n",
       "    </tr>\n",
       "  </thead>\n",
       "  <tbody>\n",
       "    <tr>\n",
       "      <th>0</th>\n",
       "      <td>02/28/2020</td>\n",
       "      <td>$273.36</td>\n",
       "      <td>106721200</td>\n",
       "      <td>$257.26</td>\n",
       "      <td>$278.41</td>\n",
       "      <td>$256.37</td>\n",
       "      <td>2020</td>\n",
       "    </tr>\n",
       "    <tr>\n",
       "      <th>1</th>\n",
       "      <td>02/27/2020</td>\n",
       "      <td>$273.52</td>\n",
       "      <td>80151380</td>\n",
       "      <td>$281.1</td>\n",
       "      <td>$286</td>\n",
       "      <td>$272.96</td>\n",
       "      <td>2020</td>\n",
       "    </tr>\n",
       "    <tr>\n",
       "      <th>2</th>\n",
       "      <td>02/26/2020</td>\n",
       "      <td>$292.65</td>\n",
       "      <td>49678430</td>\n",
       "      <td>$286.53</td>\n",
       "      <td>$297.88</td>\n",
       "      <td>$286.5</td>\n",
       "      <td>2020</td>\n",
       "    </tr>\n",
       "    <tr>\n",
       "      <th>3</th>\n",
       "      <td>02/25/2020</td>\n",
       "      <td>$288.08</td>\n",
       "      <td>57668360</td>\n",
       "      <td>$300.95</td>\n",
       "      <td>$302.53</td>\n",
       "      <td>$286.13</td>\n",
       "      <td>2020</td>\n",
       "    </tr>\n",
       "    <tr>\n",
       "      <th>4</th>\n",
       "      <td>02/24/2020</td>\n",
       "      <td>$298.18</td>\n",
       "      <td>55548830</td>\n",
       "      <td>$297.26</td>\n",
       "      <td>$304.18</td>\n",
       "      <td>$289.23</td>\n",
       "      <td>2020</td>\n",
       "    </tr>\n",
       "  </tbody>\n",
       "</table>\n",
       "</div>"
      ],
      "text/plain": [
       "         Date  Close/Last     Volume      Open      High       Low  year\n",
       "0  02/28/2020     $273.36  106721200   $257.26   $278.41   $256.37  2020\n",
       "1  02/27/2020     $273.52   80151380    $281.1      $286   $272.96  2020\n",
       "2  02/26/2020     $292.65   49678430   $286.53   $297.88    $286.5  2020\n",
       "3  02/25/2020     $288.08   57668360   $300.95   $302.53   $286.13  2020\n",
       "4  02/24/2020     $298.18   55548830   $297.26   $304.18   $289.23  2020"
      ]
     },
     "execution_count": 16,
     "metadata": {},
     "output_type": "execute_result"
    }
   ],
   "source": [
    "apple['year'] = pd.DatetimeIndex(apple.Date).year\n",
    "apple.head()"
   ]
  },
  {
   "cell_type": "markdown",
   "metadata": {},
   "source": [
    "#### Filtering data for only 2020 and 2019 yeer"
   ]
  },
  {
   "cell_type": "code",
   "execution_count": 21,
   "metadata": {},
   "outputs": [],
   "source": [
    "apple_df = apple[(apple['year'] == 2020) | (apple['year'] == 2019)] "
   ]
  },
  {
   "cell_type": "code",
   "execution_count": 22,
   "metadata": {},
   "outputs": [
    {
     "name": "stdout",
     "output_type": "stream",
     "text": [
      "Training days = (292, 7)\n"
     ]
    }
   ],
   "source": [
    "#training days\n",
    "print('Training days =', apple_df.shape)"
   ]
  },
  {
   "cell_type": "markdown",
   "metadata": {},
   "source": [
    "#### let's start cleaning our data"
   ]
  },
  {
   "cell_type": "code",
   "execution_count": 23,
   "metadata": {},
   "outputs": [
    {
     "name": "stdout",
     "output_type": "stream",
     "text": [
      "<class 'pandas.core.frame.DataFrame'>\n",
      "Index: 292 entries, 0 to 291\n",
      "Data columns (total 7 columns):\n",
      " #   Column       Non-Null Count  Dtype \n",
      "---  ------       --------------  ----- \n",
      " 0   Date         292 non-null    object\n",
      " 1    Close/Last  292 non-null    object\n",
      " 2    Volume      292 non-null    int64 \n",
      " 3    Open        292 non-null    object\n",
      " 4    High        292 non-null    object\n",
      " 5    Low         292 non-null    object\n",
      " 6   year         292 non-null    int32 \n",
      "dtypes: int32(1), int64(1), object(5)\n",
      "memory usage: 17.1+ KB\n"
     ]
    }
   ],
   "source": [
    "apple_df.info()"
   ]
  },
  {
   "cell_type": "code",
   "execution_count": 41,
   "metadata": {},
   "outputs": [],
   "source": [
    "apple_df.Date = pd.DatetimeIndex(apple_df.Date)"
   ]
  },
  {
   "cell_type": "code",
   "execution_count": 42,
   "metadata": {},
   "outputs": [
    {
     "data": {
      "text/plain": [
       "Date          datetime64[ns]\n",
       "Close/Last            object\n",
       "Volume                 int64\n",
       "Open                  object\n",
       "High                  object\n",
       "Low                   object\n",
       "year                   int32\n",
       "dtype: object"
      ]
     },
     "execution_count": 42,
     "metadata": {},
     "output_type": "execute_result"
    }
   ],
   "source": [
    "apple_df.dtypes"
   ]
  },
  {
   "cell_type": "markdown",
   "metadata": {},
   "source": [
    "- Removing extra spaces from column names"
   ]
  },
  {
   "cell_type": "code",
   "execution_count": 43,
   "metadata": {},
   "outputs": [
    {
     "data": {
      "text/plain": [
       "Index(['Date', 'Close/Last', 'Volume', 'Open', 'High', 'Low', 'year'], dtype='object')"
      ]
     },
     "execution_count": 43,
     "metadata": {},
     "output_type": "execute_result"
    }
   ],
   "source": [
    "apple_df.rename(columns=lambda x: x.strip(), inplace=True)\n",
    "apple_df.columns"
   ]
  },
  {
   "cell_type": "markdown",
   "metadata": {},
   "source": [
    "- Close/Last, open, high, low should be float. So, converting datatype from object to float"
   ]
  },
  {
   "cell_type": "code",
   "execution_count": 47,
   "metadata": {},
   "outputs": [],
   "source": [
    "#renaming close/last column name to just close\n",
    "apple_df.rename(columns= {'Close/Last': 'Close'},inplace=True)"
   ]
  },
  {
   "cell_type": "code",
   "execution_count": 51,
   "metadata": {},
   "outputs": [],
   "source": [
    "#now making necessary changes to column values before changing their dtype\n",
    "#looks like we have spaces in our column vals as well. let's correct them\n",
    "apple_df['Close'] = apple_df['Close'].apply(lambda x: x.strip())\n",
    "apple_df['Open'] = apple_df['Open'].apply(lambda x: x.strip())\n",
    "apple_df['High'] = apple_df['High'].apply(lambda x: x.strip())\n",
    "apple_df['Low'] = apple_df['Low'].apply(lambda x: x.strip())"
   ]
  },
  {
   "cell_type": "code",
   "execution_count": 53,
   "metadata": {},
   "outputs": [],
   "source": [
    "#now let's remove $ from these columns\n",
    "apple_df['Close'] = apple_df['Close'].apply(lambda x: float(x.strip(\"$\")))\n",
    "apple_df['Open'] = apple_df['Open'].apply(lambda x: float(x.strip(\"$\")))\n",
    "apple_df['High'] = apple_df['High'].apply(lambda x: float(x.strip(\"$\")))\n",
    "apple_df['Low'] = apple_df['Low'].apply(lambda x: float(x.strip(\"$\"))) "
   ]
  },
  {
   "cell_type": "code",
   "execution_count": 54,
   "metadata": {},
   "outputs": [
    {
     "data": {
      "text/plain": [
       "Date      datetime64[ns]\n",
       "Close            float64\n",
       "Volume             int64\n",
       "Open             float64\n",
       "High             float64\n",
       "Low              float64\n",
       "year               int32\n",
       "dtype: object"
      ]
     },
     "execution_count": 54,
     "metadata": {},
     "output_type": "execute_result"
    }
   ],
   "source": [
    "apple_df.dtypes"
   ]
  },
  {
   "cell_type": "code",
   "execution_count": 61,
   "metadata": {},
   "outputs": [],
   "source": [
    "#sorting by date\n",
    "apple_df.sort_values(by='Date', inplace=True)"
   ]
  },
  {
   "cell_type": "code",
   "execution_count": 72,
   "metadata": {},
   "outputs": [],
   "source": [
    "apple_df.reset_index(inplace=True)"
   ]
  },
  {
   "cell_type": "code",
   "execution_count": 75,
   "metadata": {},
   "outputs": [],
   "source": [
    "apple_df.drop(columns='index', inplace=True) "
   ]
  },
  {
   "cell_type": "markdown",
   "metadata": {},
   "source": [
    "#### Let's visualise the Apple stock price data (2019-2020)"
   ]
  },
  {
   "cell_type": "code",
   "execution_count": 103,
   "metadata": {},
   "outputs": [
    {
     "data": {
      "image/png": "[encoded data removed]",
      "text/plain": [
       "<Figure size 1000x400 with 1 Axes>"
      ]
     },
     "metadata": {},
     "output_type": "display_data"
    }
   ],
   "source": [
    "import matplotlib.pyplot as plt\n",
    "import seaborn as sns\n",
    "sns.set()\n",
    "plt.figure(figsize=(10,4))\n",
    "plt.title(\"Apple's Stock Price (2019-2020)\")\n",
    "plt.xlabel('Days')\n",
    "plt.ylabel('Close Price USD ($)')\n",
    "plt.plot(apple_df['Close'])\n",
    "plt.show() "
   ]
  },
  {
   "cell_type": "markdown",
   "metadata": {},
   "source": [
    "#### getting the close price"
   ]
  },
  {
   "cell_type": "code",
   "execution_count": 77,
   "metadata": {},
   "outputs": [
    {
     "data": {
      "text/html": [
       "<div>\n",
       "<style scoped>\n",
       "    .dataframe tbody tr th:only-of-type {\n",
       "        vertical-align: middle;\n",
       "    }\n",
       "\n",
       "    .dataframe tbody tr th {\n",
       "        vertical-align: top;\n",
       "    }\n",
       "\n",
       "    .dataframe thead th {\n",
       "        text-align: right;\n",
       "    }\n",
       "</style>\n",
       "<table border=\"1\" class=\"dataframe\">\n",
       "  <thead>\n",
       "    <tr style=\"text-align: right;\">\n",
       "      <th></th>\n",
       "      <th>Close</th>\n",
       "    </tr>\n",
       "  </thead>\n",
       "  <tbody>\n",
       "    <tr>\n",
       "      <th>0</th>\n",
       "      <td>157.92</td>\n",
       "    </tr>\n",
       "    <tr>\n",
       "      <th>1</th>\n",
       "      <td>142.19</td>\n",
       "    </tr>\n",
       "    <tr>\n",
       "      <th>2</th>\n",
       "      <td>148.26</td>\n",
       "    </tr>\n",
       "    <tr>\n",
       "      <th>3</th>\n",
       "      <td>147.93</td>\n",
       "    </tr>\n",
       "    <tr>\n",
       "      <th>4</th>\n",
       "      <td>150.75</td>\n",
       "    </tr>\n",
       "  </tbody>\n",
       "</table>\n",
       "</div>"
      ],
      "text/plain": [
       "    Close\n",
       "0  157.92\n",
       "1  142.19\n",
       "2  148.26\n",
       "3  147.93\n",
       "4  150.75"
      ]
     },
     "execution_count": 77,
     "metadata": {},
     "output_type": "execute_result"
    }
   ],
   "source": [
    "apple_close = apple_df[['Close']]\n",
    "apple_close.head()"
   ]
  },
  {
   "cell_type": "markdown",
   "metadata": {},
   "source": [
    "#### Creating a variable to predict ‘X’ days in the future:"
   ]
  },
  {
   "cell_type": "code",
   "execution_count": 78,
   "metadata": {},
   "outputs": [],
   "source": [
    "futureDays = 25"
   ]
  },
  {
   "cell_type": "markdown",
   "metadata": {},
   "source": [
    "- **Create a new target column shifted ‘X’ units/days up:**"
   ]
  },
  {
   "cell_type": "code",
   "execution_count": 79,
   "metadata": {},
   "outputs": [
    {
     "name": "stdout",
     "output_type": "stream",
     "text": [
      "    Close  Prediction\n",
      "0  157.92      170.94\n",
      "1  142.19      170.41\n",
      "2  148.26      169.43\n",
      "3  147.93      170.89\n",
      "4  150.75      170.18\n",
      "      Close  Prediction\n",
      "287  298.18         NaN\n",
      "288  288.08         NaN\n",
      "289  292.65         NaN\n",
      "290  273.52         NaN\n",
      "291  273.36         NaN\n"
     ]
    }
   ],
   "source": [
    "apple_close[\"Prediction\"] = apple_close[[\"Close\"]].shift(-futureDays)\n",
    "print(apple_close.head())\n",
    "print(apple_close.tail()) "
   ]
  },
  {
   "cell_type": "markdown",
   "metadata": {},
   "source": [
    "- creating a feature dataset (x) and converting it into a numpy array and let's remove last ‘x’ rows/days, since we will predict for those days:"
   ]
  },
  {
   "cell_type": "code",
   "execution_count": 81,
   "metadata": {},
   "outputs": [
    {
     "name": "stdout",
     "output_type": "stream",
     "text": [
      "[[157.92 ]\n",
      " [142.19 ]\n",
      " [148.26 ]\n",
      " [147.93 ]\n",
      " [150.75 ]\n",
      " [153.31 ]\n",
      " [153.8  ]\n",
      " [152.29 ]\n",
      " [150.   ]\n",
      " [153.07 ]\n",
      " [154.94 ]\n",
      " [155.86 ]\n",
      " [156.82 ]\n",
      " [153.3  ]\n",
      " [153.92 ]\n",
      " [152.7  ]\n",
      " [157.76 ]\n",
      " [156.3  ]\n",
      " [154.68 ]\n",
      " [165.25 ]\n",
      " [166.44 ]\n",
      " [166.52 ]\n",
      " [171.25 ]\n",
      " [174.18 ]\n",
      " [174.24 ]\n",
      " [170.94 ]\n",
      " [170.41 ]\n",
      " [169.43 ]\n",
      " [170.89 ]\n",
      " [170.18 ]\n",
      " [170.8  ]\n",
      " [170.42 ]\n",
      " [170.93 ]\n",
      " [172.03 ]\n",
      " [171.06 ]\n",
      " [172.97 ]\n",
      " [174.23 ]\n",
      " [174.33 ]\n",
      " [174.87 ]\n",
      " [173.15 ]\n",
      " [174.97 ]\n",
      " [175.85 ]\n",
      " [175.53 ]\n",
      " [174.52 ]\n",
      " [172.5  ]\n",
      " [172.91 ]\n",
      " [178.9  ]\n",
      " [180.91 ]\n",
      " [181.71 ]\n",
      " [183.73 ]\n",
      " [186.12 ]\n",
      " [188.02 ]\n",
      " [186.53 ]\n",
      " [188.16 ]\n",
      " [195.09 ]\n",
      " [191.05 ]\n",
      " [188.74 ]\n",
      " [186.79 ]\n",
      " [188.47 ]\n",
      " [188.72 ]\n",
      " [189.95 ]\n",
      " [191.24 ]\n",
      " [194.02 ]\n",
      " [195.35 ]\n",
      " [195.69 ]\n",
      " [197.   ]\n",
      " [200.1  ]\n",
      " [199.5  ]\n",
      " [200.62 ]\n",
      " [198.95 ]\n",
      " [198.87 ]\n",
      " [199.23 ]\n",
      " [199.25 ]\n",
      " [203.13 ]\n",
      " [203.86 ]\n",
      " [204.53 ]\n",
      " [207.48 ]\n",
      " [207.16 ]\n",
      " [205.28 ]\n",
      " [204.3  ]\n",
      " [204.61 ]\n",
      " [200.67 ]\n",
      " [210.52 ]\n",
      " [209.15 ]\n",
      " [211.75 ]\n",
      " [208.48 ]\n",
      " [202.86 ]\n",
      " [202.9  ]\n",
      " [200.72 ]\n",
      " [197.18 ]\n",
      " [185.72 ]\n",
      " [188.66 ]\n",
      " [190.92 ]\n",
      " [190.08 ]\n",
      " [189.   ]\n",
      " [183.09 ]\n",
      " [186.6  ]\n",
      " [182.78 ]\n",
      " [179.66 ]\n",
      " [178.97 ]\n",
      " [178.23 ]\n",
      " [177.38 ]\n",
      " [178.3  ]\n",
      " [175.07 ]\n",
      " [173.3  ]\n",
      " [179.64 ]\n",
      " [182.54 ]\n",
      " [185.22 ]\n",
      " [190.15 ]\n",
      " [192.58 ]\n",
      " [194.81 ]\n",
      " [194.19 ]\n",
      " [194.15 ]\n",
      " [192.74 ]\n",
      " [193.89 ]\n",
      " [198.45 ]\n",
      " [197.87 ]\n",
      " [199.46 ]\n",
      " [198.78 ]\n",
      " [198.58 ]\n",
      " [195.57 ]\n",
      " [199.8  ]\n",
      " [199.74 ]\n",
      " [197.92 ]\n",
      " [201.55 ]\n",
      " [202.73 ]\n",
      " [204.41 ]\n",
      " [204.23 ]\n",
      " [200.02 ]\n",
      " [201.24 ]\n",
      " [203.23 ]\n",
      " [201.75 ]\n",
      " [203.3  ]\n",
      " [205.21 ]\n",
      " [204.5  ]\n",
      " [203.35 ]\n",
      " [205.66 ]\n",
      " [202.59 ]\n",
      " [207.22 ]\n",
      " [208.84 ]\n",
      " [208.67 ]\n",
      " [207.02 ]\n",
      " [207.74 ]\n",
      " [209.68 ]\n",
      " [208.78 ]\n",
      " [213.04 ]\n",
      " [208.43 ]\n",
      " [204.02 ]\n",
      " [193.34 ]\n",
      " [197.   ]\n",
      " [199.04 ]\n",
      " [203.43 ]\n",
      " [200.99 ]\n",
      " [200.48 ]\n",
      " [208.97 ]\n",
      " [202.75 ]\n",
      " [201.74 ]\n",
      " [206.5  ]\n",
      " [210.35 ]\n",
      " [210.36 ]\n",
      " [212.64 ]\n",
      " [212.46 ]\n",
      " [202.64 ]\n",
      " [206.49 ]\n",
      " [204.16 ]\n",
      " [205.53 ]\n",
      " [209.01 ]\n",
      " [208.74 ]\n",
      " [205.7  ]\n",
      " [209.19 ]\n",
      " [213.28 ]\n",
      " [213.26 ]\n",
      " [214.17 ]\n",
      " [216.7  ]\n",
      " [223.59 ]\n",
      " [223.085]\n",
      " [218.75 ]\n",
      " [219.9  ]\n",
      " [220.7  ]\n",
      " [222.77 ]\n",
      " [220.96 ]\n",
      " [217.73 ]\n",
      " [218.72 ]\n",
      " [217.68 ]\n",
      " [221.03 ]\n",
      " [219.89 ]\n",
      " [218.82 ]\n",
      " [223.97 ]\n",
      " [224.59 ]\n",
      " [218.96 ]\n",
      " [220.82 ]\n",
      " [227.01 ]\n",
      " [227.06 ]\n",
      " [224.4  ]\n",
      " [227.03 ]\n",
      " [230.09 ]\n",
      " [236.21 ]\n",
      " [235.87 ]\n",
      " [235.32 ]\n",
      " [234.37 ]\n",
      " [235.28 ]\n",
      " [236.41 ]\n",
      " [240.51 ]\n",
      " [239.96 ]\n",
      " [243.18 ]\n",
      " [243.58 ]\n",
      " [246.58 ]\n",
      " [249.05 ]\n",
      " [243.29 ]\n",
      " [243.26 ]\n",
      " [248.76 ]\n",
      " [255.82 ]\n",
      " [257.5  ]\n",
      " [257.13 ]\n",
      " [257.24 ]\n",
      " [259.43 ]\n",
      " [260.14 ]\n",
      " [262.2  ]\n",
      " [261.96 ]\n",
      " [264.47 ]\n",
      " [262.64 ]\n",
      " [265.76 ]\n",
      " [267.1  ]\n",
      " [266.29 ]\n",
      " [263.19 ]\n",
      " [262.01 ]\n",
      " [261.78 ]\n",
      " [266.37 ]\n",
      " [264.29 ]\n",
      " [267.84 ]\n",
      " [267.25 ]\n",
      " [264.16 ]\n",
      " [259.45 ]\n",
      " [261.74 ]\n",
      " [265.58 ]\n",
      " [270.71 ]\n",
      " [266.92 ]\n",
      " [268.48 ]\n",
      " [270.77 ]\n",
      " [271.46 ]\n",
      " [275.15 ]\n",
      " [279.86 ]\n",
      " [280.41 ]\n",
      " [279.74 ]\n",
      " [280.02 ]\n",
      " [279.44 ]\n",
      " [284.   ]\n",
      " [284.27 ]\n",
      " [289.91 ]\n",
      " [289.8  ]\n",
      " [291.52 ]\n",
      " [293.65 ]\n",
      " [300.35 ]\n",
      " [297.43 ]\n",
      " [299.8  ]\n",
      " [298.39 ]\n",
      " [303.19 ]\n",
      " [309.63 ]\n",
      " [310.33 ]\n",
      " [316.96 ]\n",
      " [312.68 ]\n",
      " [311.34 ]\n",
      " [315.24 ]\n",
      " [318.73 ]\n",
      " [316.57 ]\n",
      " [317.7  ]\n",
      " [319.23 ]]\n"
     ]
    }
   ],
   "source": [
    "import numpy as np\n",
    "x = np.array(apple_close.drop([\"Prediction\"], axis=1))[:-futureDays]\n",
    "print(x) "
   ]
  },
  {
   "cell_type": "markdown",
   "metadata": {},
   "source": [
    "- creating a target dataset (y) and convert it to a numpy array and get all of the target values except the last ‘x’ rows days:"
   ]
  },
  {
   "cell_type": "code",
   "execution_count": 82,
   "metadata": {},
   "outputs": [
    {
     "name": "stdout",
     "output_type": "stream",
     "text": [
      "[170.94  170.41  169.43  170.89  170.18  170.8   170.42  170.93  172.03\n",
      " 171.06  172.97  174.23  174.33  174.87  173.15  174.97  175.85  175.53\n",
      " 174.52  172.5   172.91  178.9   180.91  181.71  183.73  186.12  188.02\n",
      " 186.53  188.16  195.09  191.05  188.74  186.79  188.47  188.72  189.95\n",
      " 191.24  194.02  195.35  195.69  197.    200.1   199.5   200.62  198.95\n",
      " 198.87  199.23  199.25  203.13  203.86  204.53  207.48  207.16  205.28\n",
      " 204.3   204.61  200.67  210.52  209.15  211.75  208.48  202.86  202.9\n",
      " 200.72  197.18  185.72  188.66  190.92  190.08  189.    183.09  186.6\n",
      " 182.78  179.66  178.97  178.23  177.38  178.3   175.07  173.3   179.64\n",
      " 182.54  185.22  190.15  192.58  194.81  194.19  194.15  192.74  193.89\n",
      " 198.45  197.87  199.46  198.78  198.58  195.57  199.8   199.74  197.92\n",
      " 201.55  202.73  204.41  204.23  200.02  201.24  203.23  201.75  203.3\n",
      " 205.21  204.5   203.35  205.66  202.59  207.22  208.84  208.67  207.02\n",
      " 207.74  209.68  208.78  213.04  208.43  204.02  193.34  197.    199.04\n",
      " 203.43  200.99  200.48  208.97  202.75  201.74  206.5   210.35  210.36\n",
      " 212.64  212.46  202.64  206.49  204.16  205.53  209.01  208.74  205.7\n",
      " 209.19  213.28  213.26  214.17  216.7   223.59  223.085 218.75  219.9\n",
      " 220.7   222.77  220.96  217.73  218.72  217.68  221.03  219.89  218.82\n",
      " 223.97  224.59  218.96  220.82  227.01  227.06  224.4   227.03  230.09\n",
      " 236.21  235.87  235.32  234.37  235.28  236.41  240.51  239.96  243.18\n",
      " 243.58  246.58  249.05  243.29  243.26  248.76  255.82  257.5   257.13\n",
      " 257.24  259.43  260.14  262.2   261.96  264.47  262.64  265.76  267.1\n",
      " 266.29  263.19  262.01  261.78  266.37  264.29  267.84  267.25  264.16\n",
      " 259.45  261.74  265.58  270.71  266.92  268.48  270.77  271.46  275.15\n",
      " 279.86  280.41  279.74  280.02  279.44  284.    284.27  289.91  289.8\n",
      " 291.52  293.65  300.35  297.43  299.8   298.39  303.19  309.63  310.33\n",
      " 316.96  312.68  311.34  315.24  318.73  316.57  317.7   319.23  318.31\n",
      " 308.95  317.69  324.34  323.87  309.51  308.66  318.85  321.45  325.21\n",
      " 320.03  321.55  319.61  327.2   324.87  324.95  319.    323.62  320.3\n",
      " 313.05  298.18  288.08  292.65  273.52  273.36 ]\n"
     ]
    }
   ],
   "source": [
    "y = np.array(apple_close[\"Prediction\"])[:-futureDays]\n",
    "print(y) "
   ]
  },
  {
   "cell_type": "markdown",
   "metadata": {},
   "source": [
    "#### Splitting the data into 80% training and 20% testing"
   ]
  },
  {
   "cell_type": "code",
   "execution_count": 83,
   "metadata": {},
   "outputs": [],
   "source": [
    "from sklearn.model_selection import train_test_split\n",
    "x_train, x_test, y_train, y_test = train_test_split(x, y, test_size=0.2)"
   ]
  },
  {
   "cell_type": "markdown",
   "metadata": {},
   "source": [
    "#### Creating Models"
   ]
  },
  {
   "cell_type": "code",
   "execution_count": 84,
   "metadata": {},
   "outputs": [],
   "source": [
    "#creating decision tree regressor model\n",
    "from sklearn.tree import DecisionTreeRegressor\n",
    "tree = DecisionTreeRegressor().fit(x_train, y_train)"
   ]
  },
  {
   "cell_type": "code",
   "execution_count": 85,
   "metadata": {},
   "outputs": [],
   "source": [
    "#creating the Linear Regression model\n",
    "from sklearn.linear_model import LinearRegression\n",
    "linear = LinearRegression().fit(x_train, y_train)"
   ]
  },
  {
   "cell_type": "markdown",
   "metadata": {},
   "source": [
    "- to get last 'x' rows/days of the feature dataset"
   ]
  },
  {
   "cell_type": "code",
   "execution_count": 89,
   "metadata": {},
   "outputs": [],
   "source": [
    "xfuture = apple_close.drop(['Prediction'], axis=1)[:-futureDays]"
   ]
  },
  {
   "cell_type": "code",
   "execution_count": 90,
   "metadata": {},
   "outputs": [
    {
     "name": "stdout",
     "output_type": "stream",
     "text": [
      "[[280.41]\n",
      " [279.74]\n",
      " [280.02]\n",
      " [279.44]\n",
      " [284.  ]\n",
      " [284.27]\n",
      " [289.91]\n",
      " [289.8 ]\n",
      " [291.52]\n",
      " [293.65]\n",
      " [300.35]\n",
      " [297.43]\n",
      " [299.8 ]\n",
      " [298.39]\n",
      " [303.19]\n",
      " [309.63]\n",
      " [310.33]\n",
      " [316.96]\n",
      " [312.68]\n",
      " [311.34]\n",
      " [315.24]\n",
      " [318.73]\n",
      " [316.57]\n",
      " [317.7 ]\n",
      " [319.23]]\n"
     ]
    }
   ],
   "source": [
    "xfuture = xfuture.tail(futureDays)\n",
    "xfuture = np.array(xfuture)\n",
    "xfuture = np.array(xfuture)\n",
    "print(xfuture) "
   ]
  },
  {
   "cell_type": "markdown",
   "metadata": {},
   "source": [
    "#### To see model tree prediction "
   ]
  },
  {
   "cell_type": "code",
   "execution_count": 91,
   "metadata": {},
   "outputs": [
    {
     "name": "stdout",
     "output_type": "stream",
     "text": [
      "Decision Tree Prediction = [318.31 319.23 319.23 324.34 309.51 309.51 308.66 318.85 321.45 325.21\n",
      " 320.03 321.55 320.03 327.2  324.87 324.95 324.95 323.62 320.3  313.05\n",
      " 298.18 273.36 292.65 273.52 273.36]\n"
     ]
    }
   ],
   "source": [
    "treePrediction = tree.predict(xfuture)\n",
    "print(\"Decision Tree Prediction =\", treePrediction)"
   ]
  },
  {
   "cell_type": "markdown",
   "metadata": {},
   "source": [
    "#### To see the model linear regression prediction"
   ]
  },
  {
   "cell_type": "code",
   "execution_count": 92,
   "metadata": {},
   "outputs": [
    {
     "name": "stdout",
     "output_type": "stream",
     "text": [
      "Linear regression Prediction = [297.67025898 296.96721646 297.26102527 296.65242131 301.43730765\n",
      " 301.72062329 307.63877218 307.52334729 309.32817284 311.56321844\n",
      " 318.59364354 315.52963737 318.01651909 316.53698187 321.57370433\n",
      " 328.33130697 329.06582899 336.0228019  331.53172437 330.12563934\n",
      " 334.21797635 337.8800933  335.6135682  336.79929661 338.40475189]\n"
     ]
    }
   ],
   "source": [
    "linearPrediction = linear.predict(xfuture)\n",
    "print(\"Linear regression Prediction =\", linearPrediction)"
   ]
  },
  {
   "cell_type": "markdown",
   "metadata": {},
   "source": [
    "#### Visualize decision tree predictions"
   ]
  },
  {
   "cell_type": "code",
   "execution_count": 101,
   "metadata": {},
   "outputs": [
    {
     "data": {
      "image/png": "[encoded data removed]",
      "text/plain": [
       "<Figure size 1000x600 with 1 Axes>"
      ]
     },
     "metadata": {},
     "output_type": "display_data"
    }
   ],
   "source": [
    "predictions = treePrediction\n",
    "valid = apple_close[x.shape[0]:]\n",
    "valid[\"Predictions\"] = predictions\n",
    "plt.figure(figsize=(10,6))\n",
    "plt.title(\"Apple's Stock Price Prediction Model(Decision Tree Regression Model)\")\n",
    "plt.xlabel(\"Days\")\n",
    "plt.ylabel(\"Close Price USD ($)\")\n",
    "plt.plot(apple_close[\"Close\"])\n",
    "plt.plot(valid[[\"Close\", \"Predictions\"]])\n",
    "plt.legend([\"Original\", \"Valid\", \"Predictions\"])\n",
    "plt.show() "
   ]
  },
  {
   "cell_type": "markdown",
   "metadata": {},
   "source": [
    "#### Visualize the Linear Model Predictions"
   ]
  },
  {
   "cell_type": "code",
   "execution_count": 102,
   "metadata": {},
   "outputs": [
    {
     "data": {
      "image/png": "[encoded data removed]",
      "text/plain": [
       "<Figure size 1000x600 with 1 Axes>"
      ]
     },
     "metadata": {},
     "output_type": "display_data"
    }
   ],
   "source": [
    "predictions = linearPrediction\n",
    "valid = apple_close[x.shape[0]:]\n",
    "valid['Predictions'] = predictions\n",
    "plt.figure(figsize=(10,6))\n",
    "plt.title(\"Apple's Stock Price Prediction Model(Linear Regression Model)\")\n",
    "plt.xlabel(\"Days\")\n",
    "plt.ylabel(\"Close Price USD ($)\")\n",
    "plt.plot(apple_close['Close'])\n",
    "plt.plot(valid[['Close', 'Predictions']])\n",
    "plt.legend(['Original', 'Valid', 'Predictions'])\n",
    "plt.show() "
   ]
  },
  {
   "cell_type": "code",
   "execution_count": null,
   "metadata": {},
   "outputs": [],
   "source": []
  }
 ],
 "metadata": {
  "kernelspec": {
   "display_name": "env",
   "language": "python",
   "name": "python3"
  },
  "language_info": {
   "codemirror_mode": {
    "name": "ipython",
    "version": 3
   },
   "file_extension": ".py",
   "mimetype": "text/x-python",
   "name": "python",
   "nbconvert_exporter": "python",
   "pygments_lexer": "ipython3",
   "version": "3.11.5"
  }
 },
 "nbformat": 4,
 "nbformat_minor": 2
}
