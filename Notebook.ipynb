{
 "cells": [
  {
   "cell_type": "code",
   "execution_count": 2,
   "metadata": {},
   "outputs": [],
   "source": [
    "from sklearn.model_selection import train_test_split"
   ]
  },
  {
   "cell_type": "code",
   "execution_count": 40,
   "metadata": {},
   "outputs": [],
   "source": [
    "import warnings\n",
    "warnings.filterwarnings(\"ignore\")"
   ]
  },
  {
   "cell_type": "code",
   "execution_count": 3,
   "metadata": {},
   "outputs": [],
   "source": [
    "import pandas as pd"
   ]
  },
  {
   "cell_type": "code",
   "execution_count": 4,
   "metadata": {},
   "outputs": [
    {
     "data": {
      "text/html": [
       "<div>\n",
       "<style scoped>\n",
       "    .dataframe tbody tr th:only-of-type {\n",
       "        vertical-align: middle;\n",
       "    }\n",
       "\n",
       "    .dataframe tbody tr th {\n",
       "        vertical-align: top;\n",
       "    }\n",
       "\n",
       "    .dataframe thead th {\n",
       "        text-align: right;\n",
       "    }\n",
       "</style>\n",
       "<table border=\"1\" class=\"dataframe\">\n",
       "  <thead>\n",
       "    <tr style=\"text-align: right;\">\n",
       "      <th></th>\n",
       "      <th>Date</th>\n",
       "      <th>Close/Last</th>\n",
       "      <th>Volume</th>\n",
       "      <th>Open</th>\n",
       "      <th>High</th>\n",
       "      <th>Low</th>\n",
       "    </tr>\n",
       "  </thead>\n",
       "  <tbody>\n",
       "    <tr>\n",
       "      <th>0</th>\n",
       "      <td>02/28/2020</td>\n",
       "      <td>$273.36</td>\n",
       "      <td>106721200</td>\n",
       "      <td>$257.26</td>\n",
       "      <td>$278.41</td>\n",
       "      <td>$256.37</td>\n",
       "    </tr>\n",
       "    <tr>\n",
       "      <th>1</th>\n",
       "      <td>02/27/2020</td>\n",
       "      <td>$273.52</td>\n",
       "      <td>80151380</td>\n",
       "      <td>$281.1</td>\n",
       "      <td>$286</td>\n",
       "      <td>$272.96</td>\n",
       "    </tr>\n",
       "    <tr>\n",
       "      <th>2</th>\n",
       "      <td>02/26/2020</td>\n",
       "      <td>$292.65</td>\n",
       "      <td>49678430</td>\n",
       "      <td>$286.53</td>\n",
       "      <td>$297.88</td>\n",
       "      <td>$286.5</td>\n",
       "    </tr>\n",
       "    <tr>\n",
       "      <th>3</th>\n",
       "      <td>02/25/2020</td>\n",
       "      <td>$288.08</td>\n",
       "      <td>57668360</td>\n",
       "      <td>$300.95</td>\n",
       "      <td>$302.53</td>\n",
       "      <td>$286.13</td>\n",
       "    </tr>\n",
       "    <tr>\n",
       "      <th>4</th>\n",
       "      <td>02/24/2020</td>\n",
       "      <td>$298.18</td>\n",
       "      <td>55548830</td>\n",
       "      <td>$297.26</td>\n",
       "      <td>$304.18</td>\n",
       "      <td>$289.23</td>\n",
       "    </tr>\n",
       "  </tbody>\n",
       "</table>\n",
       "</div>"
      ],
      "text/plain": [
       "         Date  Close/Last     Volume      Open      High       Low\n",
       "0  02/28/2020     $273.36  106721200   $257.26   $278.41   $256.37\n",
       "1  02/27/2020     $273.52   80151380    $281.1      $286   $272.96\n",
       "2  02/26/2020     $292.65   49678430   $286.53   $297.88    $286.5\n",
       "3  02/25/2020     $288.08   57668360   $300.95   $302.53   $286.13\n",
       "4  02/24/2020     $298.18   55548830   $297.26   $304.18   $289.23"
      ]
     },
     "execution_count": 4,
     "metadata": {},
     "output_type": "execute_result"
    }
   ],
   "source": [
    "apple = pd.read_csv('HistoricalQuotes.csv')\n",
    "apple.head()"
   ]
  },
  {
   "cell_type": "code",
   "execution_count": 6,
   "metadata": {},
   "outputs": [
    {
     "name": "stdout",
     "output_type": "stream",
     "text": [
      "<class 'pandas.core.frame.DataFrame'>\n",
      "RangeIndex: 2518 entries, 0 to 2517\n",
      "Data columns (total 6 columns):\n",
      " #   Column       Non-Null Count  Dtype \n",
      "---  ------       --------------  ----- \n",
      " 0   Date         2518 non-null   object\n",
      " 1    Close/Last  2518 non-null   object\n",
      " 2    Volume      2518 non-null   int64 \n",
      " 3    Open        2518 non-null   object\n",
      " 4    High        2518 non-null   object\n",
      " 5    Low         2518 non-null   object\n",
      "dtypes: int64(1), object(5)\n",
      "memory usage: 118.2+ KB\n"
     ]
    }
   ],
   "source": [
    "apple.info()"
   ]
  },
  {
   "cell_type": "code",
   "execution_count": 16,
   "metadata": {},
   "outputs": [
    {
     "data": {
      "text/html": [
       "<div>\n",
       "<style scoped>\n",
       "    .dataframe tbody tr th:only-of-type {\n",
       "        vertical-align: middle;\n",
       "    }\n",
       "\n",
       "    .dataframe tbody tr th {\n",
       "        vertical-align: top;\n",
       "    }\n",
       "\n",
       "    .dataframe thead th {\n",
       "        text-align: right;\n",
       "    }\n",
       "</style>\n",
       "<table border=\"1\" class=\"dataframe\">\n",
       "  <thead>\n",
       "    <tr style=\"text-align: right;\">\n",
       "      <th></th>\n",
       "      <th>Date</th>\n",
       "      <th>Close/Last</th>\n",
       "      <th>Volume</th>\n",
       "      <th>Open</th>\n",
       "      <th>High</th>\n",
       "      <th>Low</th>\n",
       "      <th>year</th>\n",
       "    </tr>\n",
       "  </thead>\n",
       "  <tbody>\n",
       "    <tr>\n",
       "      <th>0</th>\n",
       "      <td>02/28/2020</td>\n",
       "      <td>$273.36</td>\n",
       "      <td>106721200</td>\n",
       "      <td>$257.26</td>\n",
       "      <td>$278.41</td>\n",
       "      <td>$256.37</td>\n",
       "      <td>2020</td>\n",
       "    </tr>\n",
       "    <tr>\n",
       "      <th>1</th>\n",
       "      <td>02/27/2020</td>\n",
       "      <td>$273.52</td>\n",
       "      <td>80151380</td>\n",
       "      <td>$281.1</td>\n",
       "      <td>$286</td>\n",
       "      <td>$272.96</td>\n",
       "      <td>2020</td>\n",
       "    </tr>\n",
       "    <tr>\n",
       "      <th>2</th>\n",
       "      <td>02/26/2020</td>\n",
       "      <td>$292.65</td>\n",
       "      <td>49678430</td>\n",
       "      <td>$286.53</td>\n",
       "      <td>$297.88</td>\n",
       "      <td>$286.5</td>\n",
       "      <td>2020</td>\n",
       "    </tr>\n",
       "    <tr>\n",
       "      <th>3</th>\n",
       "      <td>02/25/2020</td>\n",
       "      <td>$288.08</td>\n",
       "      <td>57668360</td>\n",
       "      <td>$300.95</td>\n",
       "      <td>$302.53</td>\n",
       "      <td>$286.13</td>\n",
       "      <td>2020</td>\n",
       "    </tr>\n",
       "    <tr>\n",
       "      <th>4</th>\n",
       "      <td>02/24/2020</td>\n",
       "      <td>$298.18</td>\n",
       "      <td>55548830</td>\n",
       "      <td>$297.26</td>\n",
       "      <td>$304.18</td>\n",
       "      <td>$289.23</td>\n",
       "      <td>2020</td>\n",
       "    </tr>\n",
       "  </tbody>\n",
       "</table>\n",
       "</div>"
      ],
      "text/plain": [
       "         Date  Close/Last     Volume      Open      High       Low  year\n",
       "0  02/28/2020     $273.36  106721200   $257.26   $278.41   $256.37  2020\n",
       "1  02/27/2020     $273.52   80151380    $281.1      $286   $272.96  2020\n",
       "2  02/26/2020     $292.65   49678430   $286.53   $297.88    $286.5  2020\n",
       "3  02/25/2020     $288.08   57668360   $300.95   $302.53   $286.13  2020\n",
       "4  02/24/2020     $298.18   55548830   $297.26   $304.18   $289.23  2020"
      ]
     },
     "execution_count": 16,
     "metadata": {},
     "output_type": "execute_result"
    }
   ],
   "source": [
    "apple['year'] = pd.DatetimeIndex(apple.Date).year\n",
    "apple.head()"
   ]
  },
  {
   "cell_type": "markdown",
   "metadata": {},
   "source": [
    "#### Filtering data for only 2020 and 2019 yeer"
   ]
  },
  {
   "cell_type": "code",
   "execution_count": 21,
   "metadata": {},
   "outputs": [],
   "source": [
    "apple_df = apple[(apple['year'] == 2020) | (apple['year'] == 2019)] "
   ]
  },
  {
   "cell_type": "code",
   "execution_count": 22,
   "metadata": {},
   "outputs": [
    {
     "name": "stdout",
     "output_type": "stream",
     "text": [
      "Training days = (292, 7)\n"
     ]
    }
   ],
   "source": [
    "#training days\n",
    "print('Training days =', apple_df.shape)"
   ]
  },
  {
   "cell_type": "markdown",
   "metadata": {},
   "source": [
    "#### let's start cleaning our data"
   ]
  },
  {
   "cell_type": "code",
   "execution_count": 23,
   "metadata": {},
   "outputs": [
    {
     "name": "stdout",
     "output_type": "stream",
     "text": [
      "<class 'pandas.core.frame.DataFrame'>\n",
      "Index: 292 entries, 0 to 291\n",
      "Data columns (total 7 columns):\n",
      " #   Column       Non-Null Count  Dtype \n",
      "---  ------       --------------  ----- \n",
      " 0   Date         292 non-null    object\n",
      " 1    Close/Last  292 non-null    object\n",
      " 2    Volume      292 non-null    int64 \n",
      " 3    Open        292 non-null    object\n",
      " 4    High        292 non-null    object\n",
      " 5    Low         292 non-null    object\n",
      " 6   year         292 non-null    int32 \n",
      "dtypes: int32(1), int64(1), object(5)\n",
      "memory usage: 17.1+ KB\n"
     ]
    }
   ],
   "source": [
    "apple_df.info()"
   ]
  },
  {
   "cell_type": "code",
   "execution_count": 41,
   "metadata": {},
   "outputs": [],
   "source": [
    "apple_df.Date = pd.DatetimeIndex(apple_df.Date)"
   ]
  },
  {
   "cell_type": "code",
   "execution_count": 42,
   "metadata": {},
   "outputs": [
    {
     "data": {
      "text/plain": [
       "Date          datetime64[ns]\n",
       "Close/Last            object\n",
       "Volume                 int64\n",
       "Open                  object\n",
       "High                  object\n",
       "Low                   object\n",
       "year                   int32\n",
       "dtype: object"
      ]
     },
     "execution_count": 42,
     "metadata": {},
     "output_type": "execute_result"
    }
   ],
   "source": [
    "apple_df.dtypes"
   ]
  },
  {
   "cell_type": "markdown",
   "metadata": {},
   "source": [
    "- Removing extra spaces from column names"
   ]
  },
  {
   "cell_type": "code",
   "execution_count": 43,
   "metadata": {},
   "outputs": [
    {
     "data": {
      "text/plain": [
       "Index(['Date', 'Close/Last', 'Volume', 'Open', 'High', 'Low', 'year'], dtype='object')"
      ]
     },
     "execution_count": 43,
     "metadata": {},
     "output_type": "execute_result"
    }
   ],
   "source": [
    "apple_df.rename(columns=lambda x: x.strip(), inplace=True)\n",
    "apple_df.columns"
   ]
  },
  {
   "cell_type": "markdown",
   "metadata": {},
   "source": [
    "- Close/Last, open, high, low should be float. So, converting datatype from object to float"
   ]
  },
  {
   "cell_type": "code",
   "execution_count": 47,
   "metadata": {},
   "outputs": [],
   "source": [
    "#renaming close/last column name to just close\n",
    "apple_df.rename(columns= {'Close/Last': 'Close'},inplace=True)"
   ]
  },
  {
   "cell_type": "code",
   "execution_count": 51,
   "metadata": {},
   "outputs": [],
   "source": [
    "#now making necessary changes to column values before changing their dtype\n",
    "#looks like we have spaces in our column vals as well. let's correct them\n",
    "apple_df['Close'] = apple_df['Close'].apply(lambda x: x.strip())\n",
    "apple_df['Open'] = apple_df['Open'].apply(lambda x: x.strip())\n",
    "apple_df['High'] = apple_df['High'].apply(lambda x: x.strip())\n",
    "apple_df['Low'] = apple_df['Low'].apply(lambda x: x.strip())"
   ]
  },
  {
   "cell_type": "code",
   "execution_count": 53,
   "metadata": {},
   "outputs": [],
   "source": [
    "#now let's remove $ from these columns\n",
    "apple_df['Close'] = apple_df['Close'].apply(lambda x: float(x.strip(\"$\")))\n",
    "apple_df['Open'] = apple_df['Open'].apply(lambda x: float(x.strip(\"$\")))\n",
    "apple_df['High'] = apple_df['High'].apply(lambda x: float(x.strip(\"$\")))\n",
    "apple_df['Low'] = apple_df['Low'].apply(lambda x: float(x.strip(\"$\"))) "
   ]
  },
  {
   "cell_type": "code",
   "execution_count": 54,
   "metadata": {},
   "outputs": [
    {
     "data": {
      "text/plain": [
       "Date      datetime64[ns]\n",
       "Close            float64\n",
       "Volume             int64\n",
       "Open             float64\n",
       "High             float64\n",
       "Low              float64\n",
       "year               int32\n",
       "dtype: object"
      ]
     },
     "execution_count": 54,
     "metadata": {},
     "output_type": "execute_result"
    }
   ],
   "source": [
    "apple_df.dtypes"
   ]
  },
  {
   "cell_type": "code",
   "execution_count": 61,
   "metadata": {},
   "outputs": [],
   "source": [
    "#sorting by date\n",
    "apple_df.sort_values(by='Date', inplace=True)"
   ]
  },
  {
   "cell_type": "code",
   "execution_count": 72,
   "metadata": {},
   "outputs": [],
   "source": [
    "apple_df.reset_index(inplace=True)"
   ]
  },
  {
   "cell_type": "code",
   "execution_count": 75,
   "metadata": {},
   "outputs": [],
   "source": [
    "apple_df.drop(columns='index', inplace=True) "
   ]
  },
  {
   "cell_type": "markdown",
   "metadata": {},
   "source": [
    "#### Let's visualise the Apple stock price data (2019-2020)"
   ]
  },
  {
   "cell_type": "code",
   "execution_count": 76,
   "metadata": {},
   "outputs": [
    {
     "data": {
      "image/png": "[encoded data removed]",
      "text/plain": [
       "<Figure size 1000x400 with 1 Axes>"
      ]
     },
     "metadata": {},
     "output_type": "display_data"
    }
   ],
   "source": [
    "import matplotlib.pyplot as plt\n",
    "import seaborn as sns\n",
    "sns.set()\n",
    "plt.figure(figsize=(10,4))\n",
    "plt.title(\"Apple's Stock Price\")\n",
    "plt.xlabel('Days')\n",
    "plt.ylabel('Close Price USD ($)')\n",
    "plt.plot(apple_df['Close'])\n",
    "plt.show() "
   ]
  },
  {
   "cell_type": "code",
   "execution_count": null,
   "metadata": {},
   "outputs": [],
   "source": []
  }
 ],
 "metadata": {
  "kernelspec": {
   "display_name": "env",
   "language": "python",
   "name": "python3"
  },
  "language_info": {
   "codemirror_mode": {
    "name": "ipython",
    "version": 3
   },
   "file_extension": ".py",
   "mimetype": "text/x-python",
   "name": "python",
   "nbconvert_exporter": "python",
   "pygments_lexer": "ipython3",
   "version": "3.11.5"
  }
 },
 "nbformat": 4,
 "nbformat_minor": 2
}
